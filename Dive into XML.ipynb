{
 "cells": [
  {
   "cell_type": "markdown",
   "id": "cb6b630a",
   "metadata": {},
   "source": [
    "## ElementTree\n",
    "\n",
    "`ElementTree` from the standard library and `lxml` are the most prevalent tools in the Python world for processing XML."
   ]
  },
  {
   "cell_type": "markdown",
   "id": "46328037",
   "metadata": {},
   "source": [
    "The ElementTree library is part of the Python standard library"
   ]
  },
  {
   "cell_type": "code",
   "execution_count": 1,
   "id": "1b37c2b1",
   "metadata": {},
   "outputs": [],
   "source": [
    "import xml.etree.ElementTree as etree"
   ]
  },
  {
   "cell_type": "markdown",
   "id": "64d37d41",
   "metadata": {},
   "source": [
    "The primary entry point for the ElementTree library is the parse() function, which can take a filename or a file-like object. This function parses the entire document at once. \n",
    "If memory is tight, there are ways to parse an XML document incrementally instead."
   ]
  },
  {
   "cell_type": "code",
   "execution_count": 2,
   "id": "638dd08d",
   "metadata": {},
   "outputs": [],
   "source": [
    "tree = etree.parse('feed.xml')"
   ]
  },
  {
   "cell_type": "markdown",
   "id": "51f7fb85",
   "metadata": {},
   "source": [
    "The `parse()` function returns an object which represents the entire document. \n",
    "This is not the root element. \n",
    "To get a reference to the root element, call the getroot() method."
   ]
  },
  {
   "cell_type": "code",
   "execution_count": 3,
   "id": "3111ebcd",
   "metadata": {},
   "outputs": [],
   "source": [
    "root = tree.getroot()"
   ]
  },
  {
   "cell_type": "markdown",
   "id": "0c8d5e99",
   "metadata": {},
   "source": [
    "The root element is the feed element in the http://www.w3.org/2005/Atom namespace. \n",
    "The string representation of this object reinforces an important point: \n",
    "an XML element is a combination of its namespace and its tag name (also called the local name). \n",
    "Every element in this document is in the Atom namespace, \n",
    "so the root element is represented as {http://www.w3.org/2005/Atom}feed."
   ]
  },
  {
   "cell_type": "code",
   "execution_count": 4,
   "id": "696ac29b",
   "metadata": {},
   "outputs": [
    {
     "data": {
      "text/plain": [
       "<Element '{http://www.w3.org/2005/Atom}feed' at 0x1094f10e0>"
      ]
     },
     "execution_count": 4,
     "metadata": {},
     "output_type": "execute_result"
    }
   ],
   "source": [
    "root"
   ]
  },
  {
   "cell_type": "markdown",
   "id": "bc800ec4",
   "metadata": {},
   "source": [
    "*ElementTree represents XML elements as `{namespace}localname`. You’ll see and use this format in multiple places in the ElementTree `API`.*"
   ]
  },
  {
   "cell_type": "code",
   "execution_count": 5,
   "id": "f1bebd86",
   "metadata": {},
   "outputs": [
    {
     "data": {
      "text/plain": [
       "'{http://www.w3.org/2005/Atom}feed'"
      ]
     },
     "execution_count": 5,
     "metadata": {},
     "output_type": "execute_result"
    }
   ],
   "source": [
    "root.tag"
   ]
  },
  {
   "cell_type": "markdown",
   "id": "0b5e11e8",
   "metadata": {},
   "source": [
    "The “length” of the root element is the number of child elements."
   ]
  },
  {
   "cell_type": "code",
   "execution_count": 6,
   "id": "467ca6b9",
   "metadata": {},
   "outputs": [
    {
     "data": {
      "text/plain": [
       "8"
      ]
     },
     "execution_count": 6,
     "metadata": {},
     "output_type": "execute_result"
    }
   ],
   "source": [
    "len(root)"
   ]
  },
  {
   "cell_type": "markdown",
   "id": "5294318a",
   "metadata": {},
   "source": [
    "An element can be used as an iterator to loop through all of its child elements. The list of child elements only includes `direct` children."
   ]
  },
  {
   "cell_type": "code",
   "execution_count": 7,
   "id": "37bb82e8",
   "metadata": {
    "scrolled": true
   },
   "outputs": [
    {
     "name": "stdout",
     "output_type": "stream",
     "text": [
      "<Element '{http://www.w3.org/2005/Atom}title' at 0x1094f1180>\n",
      "<Element '{http://www.w3.org/2005/Atom}subtitle' at 0x1094f1220>\n",
      "<Element '{http://www.w3.org/2005/Atom}id' at 0x1094f1310>\n",
      "<Element '{http://www.w3.org/2005/Atom}updated' at 0x1094f13b0>\n",
      "<Element '{http://www.w3.org/2005/Atom}link' at 0x1094f14f0>\n",
      "<Element '{http://www.w3.org/2005/Atom}entry' at 0x1094f1590>\n",
      "<Element '{http://www.w3.org/2005/Atom}entry' at 0x1094f1d60>\n",
      "<Element '{http://www.w3.org/2005/Atom}entry' at 0x1094f52c0>\n"
     ]
    }
   ],
   "source": [
    "for child in root:\n",
    "    print(child)"
   ]
  },
  {
   "cell_type": "markdown",
   "id": "57a6ff79",
   "metadata": {},
   "source": [
    "## Attributes Are Dictonaries\n",
    "\n",
    "Once you have a reference to a specific element, you can easily get its attributes as a Python dictionary."
   ]
  },
  {
   "cell_type": "code",
   "execution_count": 8,
   "id": "3337c236",
   "metadata": {},
   "outputs": [
    {
     "data": {
      "text/plain": [
       "{'{http://www.w3.org/XML/1998/namespace}lang': 'en'}"
      ]
     },
     "execution_count": 8,
     "metadata": {},
     "output_type": "execute_result"
    }
   ],
   "source": [
    "root.attrib"
   ]
  },
  {
   "cell_type": "code",
   "execution_count": 9,
   "id": "60ae693c",
   "metadata": {},
   "outputs": [
    {
     "data": {
      "text/plain": [
       "<Element '{http://www.w3.org/2005/Atom}link' at 0x1094f14f0>"
      ]
     },
     "execution_count": 9,
     "metadata": {},
     "output_type": "execute_result"
    }
   ],
   "source": [
    "root[4]"
   ]
  },
  {
   "cell_type": "code",
   "execution_count": 10,
   "id": "0b131264",
   "metadata": {},
   "outputs": [
    {
     "data": {
      "text/plain": [
       "{'rel': 'alternate', 'type': 'text/html', 'href': 'http://diveintomark.org/'}"
      ]
     },
     "execution_count": 10,
     "metadata": {},
     "output_type": "execute_result"
    }
   ],
   "source": [
    "root[4].attrib"
   ]
  },
  {
   "cell_type": "code",
   "execution_count": 11,
   "id": "11cea684",
   "metadata": {},
   "outputs": [
    {
     "data": {
      "text/plain": [
       "<Element '{http://www.w3.org/2005/Atom}updated' at 0x1094f13b0>"
      ]
     },
     "execution_count": 11,
     "metadata": {},
     "output_type": "execute_result"
    }
   ],
   "source": [
    "root[3]"
   ]
  },
  {
   "cell_type": "code",
   "execution_count": 12,
   "id": "01afab47",
   "metadata": {},
   "outputs": [
    {
     "data": {
      "text/plain": [
       "{}"
      ]
     },
     "execution_count": 12,
     "metadata": {},
     "output_type": "execute_result"
    }
   ],
   "source": [
    "# The updated element has no attributes, \n",
    "# so its .attrib is just an empty dictionary.\n",
    "root[3].attrib"
   ]
  },
  {
   "cell_type": "markdown",
   "id": "4334ece7",
   "metadata": {},
   "source": [
    "## Searching For Nodes Within An XML Document\n",
    "\n",
    "### findall()\n",
    "\n",
    "Each element — including the root element, but also child elements — has a `findall()` method. It finds all matching elements among the element’s children."
   ]
  },
  {
   "cell_type": "code",
   "execution_count": 13,
   "id": "39f3d571",
   "metadata": {},
   "outputs": [
    {
     "data": {
      "text/plain": [
       "<xml.etree.ElementTree.ElementTree at 0x1094e3b20>"
      ]
     },
     "execution_count": 13,
     "metadata": {},
     "output_type": "execute_result"
    }
   ],
   "source": [
    "tree"
   ]
  },
  {
   "cell_type": "code",
   "execution_count": 14,
   "id": "71da6867",
   "metadata": {},
   "outputs": [],
   "source": [
    "# We will need to use the namespace a lot, so we make this shortcut\n",
    "namespace = '{http://www.w3.org/2005/Atom}'"
   ]
  },
  {
   "cell_type": "code",
   "execution_count": 15,
   "id": "109d88de",
   "metadata": {},
   "outputs": [
    {
     "data": {
      "text/plain": [
       "[<Element '{http://www.w3.org/2005/Atom}entry' at 0x1094f1590>,\n",
       " <Element '{http://www.w3.org/2005/Atom}entry' at 0x1094f1d60>,\n",
       " <Element '{http://www.w3.org/2005/Atom}entry' at 0x1094f52c0>]"
      ]
     },
     "execution_count": 15,
     "metadata": {},
     "output_type": "execute_result"
    }
   ],
   "source": [
    "root.findall(f'{namespace}entry')"
   ]
  },
  {
   "cell_type": "code",
   "execution_count": 16,
   "id": "a051aa3d",
   "metadata": {},
   "outputs": [
    {
     "data": {
      "text/plain": [
       "'{http://www.w3.org/2005/Atom}feed'"
      ]
     },
     "execution_count": 16,
     "metadata": {},
     "output_type": "execute_result"
    }
   ],
   "source": [
    "root.tag"
   ]
  },
  {
   "cell_type": "code",
   "execution_count": 17,
   "id": "1e3bcef6",
   "metadata": {},
   "outputs": [
    {
     "data": {
      "text/plain": [
       "[]"
      ]
     },
     "execution_count": 17,
     "metadata": {},
     "output_type": "execute_result"
    }
   ],
   "source": [
    "# This query returns an empty list because there the root\n",
    "# element 'feed' does not have any child element 'feed'\n",
    "root.findall(f'{namespace}feed')"
   ]
  },
  {
   "cell_type": "code",
   "execution_count": 18,
   "id": "1dbbb47f",
   "metadata": {},
   "outputs": [
    {
     "data": {
      "text/plain": [
       "[]"
      ]
     },
     "execution_count": 18,
     "metadata": {},
     "output_type": "execute_result"
    }
   ],
   "source": [
    "# This query only finds direct children. The author nodes are nested,\n",
    "# therefore this query returns an empty list\n",
    "root.findall(f'{namespace}author')"
   ]
  },
  {
   "cell_type": "markdown",
   "id": "3d525627",
   "metadata": {},
   "source": [
    "For convenience, the `tree` object (returned from the `etree.parse()` function) has several methods that mirror the methods on the root element. The results are the same as if you had called the `tree.getroot().findall()` method."
   ]
  },
  {
   "cell_type": "code",
   "execution_count": 19,
   "id": "3948e1e5",
   "metadata": {},
   "outputs": [
    {
     "data": {
      "text/plain": [
       "[<Element '{http://www.w3.org/2005/Atom}entry' at 0x1094f1590>,\n",
       " <Element '{http://www.w3.org/2005/Atom}entry' at 0x1094f1d60>,\n",
       " <Element '{http://www.w3.org/2005/Atom}entry' at 0x1094f52c0>]"
      ]
     },
     "execution_count": 19,
     "metadata": {},
     "output_type": "execute_result"
    }
   ],
   "source": [
    "tree.findall(f'{namespace}entry')"
   ]
  },
  {
   "cell_type": "code",
   "execution_count": 20,
   "id": "90663c8e",
   "metadata": {},
   "outputs": [
    {
     "data": {
      "text/plain": [
       "[]"
      ]
     },
     "execution_count": 20,
     "metadata": {},
     "output_type": "execute_result"
    }
   ],
   "source": [
    "tree.findall(f'{namespace}author')"
   ]
  },
  {
   "cell_type": "markdown",
   "id": "45343d61",
   "metadata": {},
   "source": [
    "### find()\n",
    "\n",
    "The `find()` method takes an ElementTree query returns the first matching element. This is useful for situations where you are only expecting one match, or if there are multiple matches, you only care about the first one."
   ]
  },
  {
   "cell_type": "code",
   "execution_count": 21,
   "id": "6ac53009",
   "metadata": {},
   "outputs": [
    {
     "data": {
      "text/plain": [
       "3"
      ]
     },
     "execution_count": 21,
     "metadata": {},
     "output_type": "execute_result"
    }
   ],
   "source": [
    "entries = tree.findall(f'{namespace}entry')\n",
    "len(entries)"
   ]
  },
  {
   "cell_type": "code",
   "execution_count": 22,
   "id": "c11e8efc",
   "metadata": {},
   "outputs": [
    {
     "data": {
      "text/plain": [
       "'Dive into history, 2009 edition'"
      ]
     },
     "execution_count": 22,
     "metadata": {},
     "output_type": "execute_result"
    }
   ],
   "source": [
    "# Get the first title, secretly we know there is only one title\n",
    "title_element = entries[0].find(f'{namespace}title')\n",
    "title_element.text"
   ]
  },
  {
   "cell_type": "markdown",
   "id": "0efd14ac",
   "metadata": {},
   "source": [
    "There are no elements in this entry named `foo`, so this returns `None`."
   ]
  },
  {
   "cell_type": "code",
   "execution_count": 23,
   "id": "9bfb5963",
   "metadata": {},
   "outputs": [],
   "source": [
    "foo_element = entries[0].find(f'{namespace}foo')\n",
    "foo_element"
   ]
  },
  {
   "cell_type": "code",
   "execution_count": 24,
   "id": "763b937d",
   "metadata": {},
   "outputs": [
    {
     "data": {
      "text/plain": [
       "NoneType"
      ]
     },
     "execution_count": 24,
     "metadata": {},
     "output_type": "execute_result"
    }
   ],
   "source": [
    "type(foo_element)"
   ]
  },
  {
   "cell_type": "markdown",
   "id": "81d479ea",
   "metadata": {},
   "source": [
    "**Beware:** In a boolean context, ElementTree element objects will evaluate to `False` if they contain no children (i.e. if `len(element)` is 0). This means that if `element.find('...')` is not testing whether the find() method found a matching element; it’s testing whether that matching element has any child elements! To test whether the `find()` method returned an element, use if `element.find('...') is not None`."
   ]
  },
  {
   "cell_type": "markdown",
   "id": "5317fb16",
   "metadata": {},
   "source": [
    "### Search for descendant elements"
   ]
  },
  {
   "cell_type": "code",
   "execution_count": 25,
   "id": "c80528a0",
   "metadata": {},
   "outputs": [
    {
     "data": {
      "text/plain": [
       "[<Element '{http://www.w3.org/2005/Atom}link' at 0x1094f14f0>,\n",
       " <Element '{http://www.w3.org/2005/Atom}link' at 0x1094f1860>,\n",
       " <Element '{http://www.w3.org/2005/Atom}link' at 0x1094f1f90>,\n",
       " <Element '{http://www.w3.org/2005/Atom}link' at 0x1094f5400>]"
      ]
     },
     "execution_count": 25,
     "metadata": {},
     "output_type": "execute_result"
    }
   ],
   "source": [
    "all_links = tree.findall(f'.//{namespace}link')\n",
    "all_links"
   ]
  },
  {
   "cell_type": "code",
   "execution_count": 26,
   "id": "50ac6d6a",
   "metadata": {},
   "outputs": [
    {
     "data": {
      "text/plain": [
       "{'rel': 'alternate', 'type': 'text/html', 'href': 'http://diveintomark.org/'}"
      ]
     },
     "execution_count": 26,
     "metadata": {},
     "output_type": "execute_result"
    }
   ],
   "source": [
    "all_links[0].attrib"
   ]
  },
  {
   "cell_type": "code",
   "execution_count": 27,
   "id": "29919cf6",
   "metadata": {},
   "outputs": [
    {
     "data": {
      "text/plain": [
       "{'rel': 'alternate',\n",
       " 'type': 'text/html',\n",
       " 'href': 'http://diveintomark.org/archives/2009/03/27/dive-into-history-2009-edition'}"
      ]
     },
     "execution_count": 27,
     "metadata": {},
     "output_type": "execute_result"
    }
   ],
   "source": [
    "all_links[1].attrib"
   ]
  },
  {
   "cell_type": "code",
   "execution_count": 28,
   "id": "7497b387",
   "metadata": {},
   "outputs": [
    {
     "data": {
      "text/plain": [
       "{'rel': 'alternate',\n",
       " 'type': 'text/html',\n",
       " 'href': 'http://diveintomark.org/archives/2009/03/21/accessibility-is-a-harsh-mistress'}"
      ]
     },
     "execution_count": 28,
     "metadata": {},
     "output_type": "execute_result"
    }
   ],
   "source": [
    "all_links[2].attrib"
   ]
  },
  {
   "cell_type": "code",
   "execution_count": 29,
   "id": "e3aa14a5",
   "metadata": {},
   "outputs": [
    {
     "data": {
      "text/plain": [
       "{'rel': 'alternate',\n",
       " 'type': 'text/html',\n",
       " 'href': 'http://diveintomark.org/archives/2008/12/18/give-part-1-container-formats'}"
      ]
     },
     "execution_count": 29,
     "metadata": {},
     "output_type": "execute_result"
    }
   ],
   "source": [
    "all_links[3].attrib"
   ]
  },
  {
   "cell_type": "code",
   "execution_count": null,
   "id": "92ed3cb2",
   "metadata": {},
   "outputs": [],
   "source": []
  }
 ],
 "metadata": {
  "kernelspec": {
   "display_name": "Python 3 (ipykernel)",
   "language": "python",
   "name": "python3"
  },
  "language_info": {
   "codemirror_mode": {
    "name": "ipython",
    "version": 3
   },
   "file_extension": ".py",
   "mimetype": "text/x-python",
   "name": "python",
   "nbconvert_exporter": "python",
   "pygments_lexer": "ipython3",
   "version": "3.8.12"
  }
 },
 "nbformat": 4,
 "nbformat_minor": 5
}
